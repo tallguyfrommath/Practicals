{
 "cells": [
  {
   "cell_type": "code",
   "execution_count": 8,
   "metadata": {},
   "outputs": [
    {
     "name": "stdout",
     "output_type": "stream",
     "text": [
      "\t\t\t\tmenu\t\t\t\t\n",
      "select an option\n",
      "a. covert to ascii\n",
      "b. convert to character\n",
      "choose:a\n",
      "enter your character ff\n"
     ]
    },
    {
     "ename": "Exception",
     "evalue": "ENTER ONLY ONE CHARACTER",
     "output_type": "error",
     "traceback": [
      "\u001b[1;31m---------------------------------------------------------------------------\u001b[0m",
      "\u001b[1;31mException\u001b[0m                                 Traceback (most recent call last)",
      "\u001b[1;32m<ipython-input-8-be507f9c0d10>\u001b[0m in \u001b[0;36m<module>\u001b[1;34m\u001b[0m\n\u001b[0;32m     11\u001b[0m         \u001b[0mx\u001b[0m \u001b[1;33m=\u001b[0m \u001b[0minput\u001b[0m\u001b[1;33m(\u001b[0m\u001b[1;34m\"enter your character \"\u001b[0m\u001b[1;33m)\u001b[0m\u001b[1;33m\u001b[0m\u001b[1;33m\u001b[0m\u001b[0m\n\u001b[0;32m     12\u001b[0m         \u001b[1;32mif\u001b[0m \u001b[0mlen\u001b[0m\u001b[1;33m(\u001b[0m\u001b[0mx\u001b[0m\u001b[1;33m)\u001b[0m\u001b[1;33m>\u001b[0m\u001b[1;36m1\u001b[0m\u001b[1;33m:\u001b[0m\u001b[1;33m\u001b[0m\u001b[1;33m\u001b[0m\u001b[0m\n\u001b[1;32m---> 13\u001b[1;33m             \u001b[1;32mraise\u001b[0m\u001b[1;33m(\u001b[0m\u001b[0mException\u001b[0m\u001b[1;33m(\u001b[0m\u001b[1;34m\"ENTER ONLY ONE CHARACTER\"\u001b[0m\u001b[1;33m)\u001b[0m\u001b[1;33m)\u001b[0m\u001b[1;33m\u001b[0m\u001b[1;33m\u001b[0m\u001b[0m\n\u001b[0m\u001b[0;32m     14\u001b[0m         \u001b[1;32melse\u001b[0m\u001b[1;33m:\u001b[0m\u001b[1;33m\u001b[0m\u001b[1;33m\u001b[0m\u001b[0m\n\u001b[0;32m     15\u001b[0m             \u001b[0mprint\u001b[0m\u001b[1;33m(\u001b[0m\u001b[1;34m\"The ascii value of the character is \"\u001b[0m\u001b[1;33m,\u001b[0m\u001b[0mord\u001b[0m\u001b[1;33m(\u001b[0m\u001b[0mx\u001b[0m\u001b[1;33m)\u001b[0m\u001b[1;33m)\u001b[0m\u001b[1;33m\u001b[0m\u001b[1;33m\u001b[0m\u001b[0m\n",
      "\u001b[1;31mException\u001b[0m: ENTER ONLY ONE CHARACTER"
     ]
    }
   ],
   "source": [
    "# Practical 8\n",
    "# Submitted by : Abhishek\n",
    "# College: Hindu College(Section A)\n",
    "# date: 14-01-2021\n",
    "\n",
    "\n",
    "while True:\n",
    "    print(\"\\t\\t\\t\\tmenu\\t\\t\\t\\t\")\n",
    "    y = input(\"select an option\\na. covert to ascii\\nb. convert to character\\nchoose:\").lower()\n",
    "    if y == \"a\":\n",
    "        x = input(\"enter your character \")\n",
    "        if len(x)>1:\n",
    "            raise(Exception(\"ENTER ONLY ONE CHARACTER\"))\n",
    "        else:\n",
    "            print(\"The ascii value of the character is \",ord(x))\n",
    "        break\n",
    "    elif y == \"b\":\n",
    "        x = input(\"enter your character \")\n",
    "        if len(x)>1:\n",
    "            raise(Exception(\"ENTER ONLY ONE CHARACTER\"))\n",
    "        else:\n",
    "            print(\"The character code of the numbr is \",chr(int(x)))\n",
    "        break\n",
    "    else:\n",
    "        raise(Exception(\"Please enter a valid choice\"))\n"
   ]
  },
  {
   "cell_type": "code",
   "execution_count": null,
   "metadata": {},
   "outputs": [],
   "source": []
  }
 ],
 "metadata": {
  "kernelspec": {
   "display_name": "Python 3",
   "language": "python",
   "name": "python3"
  },
  "language_info": {
   "codemirror_mode": {
    "name": "ipython",
    "version": 3
   },
   "file_extension": ".py",
   "mimetype": "text/x-python",
   "name": "python",
   "nbconvert_exporter": "python",
   "pygments_lexer": "ipython3",
   "version": "3.8.3"
  }
 },
 "nbformat": 4,
 "nbformat_minor": 4
}
